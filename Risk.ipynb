{
 "cells": [
  {
   "cell_type": "code",
   "execution_count": 49,
   "metadata": {},
   "outputs": [],
   "source": [
    "%matplotlib inline\n",
    "\n",
    "import numpy as np\n",
    "import pylab as pl\n",
    "import pandas as pd\n",
    "import matplotlib.pyplot as plt\n",
    "import seaborn as sns; sns.set(style=\"ticks\", color_codes=True)\n",
    "import pydotplus \n",
    "\n",
    "import warnings\n",
    "warnings.filterwarnings('ignore')\n",
    "\n",
    "from IPython.display import Image  \n",
    "from collections import defaultdict\n",
    "from sklearn.dummy import DummyClassifier\n",
    "from sklearn import svm, tree\n",
    "from sklearn.tree import export_graphviz\n",
    "from sklearn.model_selection import train_test_split, cross_val_score, GridSearchCV\n",
    "from sklearn.preprocessing import OneHotEncoder, LabelEncoder, label_binarize, StandardScaler, MinMaxScaler\n",
    "from sklearn.decomposition import PCA\n",
    "from sklearn.metrics import classification_report,confusion_matrix, roc_curve, auc\n",
    "from sklearn.naive_bayes import GaussianNB\n",
    "from sklearn.neighbors import KNeighborsClassifier\n",
    "from sklearn.neural_network import MLPClassifier\n",
    "from sklearn.ensemble import ExtraTreesClassifier, RandomForestClassifier, GradientBoostingClassifier, AdaBoostClassifier, BaggingClassifier, VotingClassifier\n",
    "from sklearn.feature_selection import RFE, SelectKBest, chi2, SelectFromModel\n",
    "from sklearn.linear_model import LogisticRegression, SGDClassifier\n",
    "from imblearn.over_sampling import SMOTE"
   ]
  },
  {
   "cell_type": "markdown",
   "metadata": {},
   "source": [
    "Function to get evaluation metrics and roc curve"
   ]
  },
  {
   "cell_type": "code",
   "execution_count": 4,
   "metadata": {},
   "outputs": [],
   "source": [
    "def get_eval(clf, X_train, y_train,y_test,y_pred):\n",
    "    # Cross Validation to test and anticipate overfitting problem\n",
    "    scores1 = cross_val_score(clf, X_train, y_train, cv=10, scoring='accuracy')\n",
    "    scores2 = cross_val_score(clf, X_train, y_train, cv=10, scoring='precision')\n",
    "    scores3 = cross_val_score(clf, X_train, y_train, cv=10, scoring='roc_auc')\n",
    "    # The mean score and standard deviation of the score estimate\n",
    "    print(\"Cross Validation Accuracy: %0.2f (+/- %0.2f)\" % (scores1.mean(), scores1.std()))\n",
    "    print(\"Cross Validation Precision: %0.2f (+/- %0.2f)\" % (scores2.mean(), scores2.std()))\n",
    "    print(\"Cross Validation roc_auc: %0.2f (+/- %0.2f)\" % (scores3.mean(), scores3.std()))\n",
    "    # Create and print confusion matrix\n",
    "    abclf_cm = confusion_matrix(y_test,y_pred)\n",
    "    print(abclf_cm)\n",
    "    return\n",
    "\n",
    "# Function to get roc curve\n",
    "def get_roc (y_test,y_pred):\n",
    "    # Compute ROC curve and ROC area for each class\n",
    "    fpr = dict()\n",
    "    tpr = dict()\n",
    "    roc_auc = dict()\n",
    "    fpr, tpr, _ = roc_curve(y_test, y_pred)\n",
    "    roc_auc = auc(fpr, tpr)\n",
    "    #Plot of a ROC curve\n",
    "    plt.figure()\n",
    "    lw = 2\n",
    "    plt.plot(fpr, tpr, color='darkorange',\n",
    "             label='ROC curve (area = %0.2f)' % roc_auc)\n",
    "    plt.plot([0, 1], [0, 1], color='navy', lw=lw, linestyle='--')\n",
    "    plt.xlim([0.0, 1.0])\n",
    "    plt.ylim([0.0, 1.0])\n",
    "    plt.xlabel('False Positive Rate')\n",
    "    plt.ylabel('True Positive Rate')\n",
    "    plt.title('Receiver operating characteristic')\n",
    "    plt.legend(loc=\"lower right\")\n",
    "    plt.show()\n",
    "    return"
   ]
  },
  {
   "cell_type": "markdown",
   "metadata": {},
   "source": [
    "DecisionTreeClassifier"
   ]
  },
  {
   "cell_type": "code",
   "execution_count": 5,
   "metadata": {},
   "outputs": [],
   "source": [
    "def dectreeclf(X_train, y_train,X_test, y_test):\n",
    "    print(\"DecisionTreeClassifier\")\n",
    "    dec_tree = tree.DecisionTreeClassifier(min_samples_split=10,min_samples_leaf=5).fit(X_train, y_train)\n",
    "\n",
    "    # Predict target variables y for test data\n",
    "    y_pred = dec_tree.predict(X_test)\n",
    "\n",
    "    # Export visualization as file\n",
    "    #visualize_tree(dec_tree,X_train,y_train)\n",
    "    \n",
    "    # Get Cross Validation and Confusion matrix\n",
    "    get_eval(dec_tree, X_train, y_train,y_test,y_pred)\n",
    "    return\n",
    "\n",
    "# Visualize tree and save as .pdf\n",
    "# Only works for dataframes, not for numpy arrays\n",
    "def visualize_tree(clf,X_train,y_train):\n",
    "    dot_data = export_graphviz(clf, out_file=None) \n",
    "    graph = pydotplus.graph_from_dot_data(dot_data) \n",
    "    graph.write_pdf(\"dectreeclf.pdf\") \n",
    "     \n",
    "        \n",
    "    dot_data = export_graphviz(clf, out_file=None, \n",
    "                         feature_names=[str(x) for x in X_train.columns.tolist()], # feature names from X_train column names\n",
    "                         class_names=[str(x) for x in clf.classes_],\n",
    "                         filled=True, rounded=True,  \n",
    "                         special_characters=True,\n",
    "                         leaves_parallel=True)  \n",
    "    graph = pydotplus.graph_from_dot_data(dot_data)  \n",
    "    Image(graph.create_png()) \n",
    "    return"
   ]
  },
  {
   "cell_type": "markdown",
   "metadata": {},
   "source": [
    "Random Forest Classifier"
   ]
  },
  {
   "cell_type": "code",
   "execution_count": 6,
   "metadata": {},
   "outputs": [],
   "source": [
    "def randomforestclf(X_train, y_train,X_test, y_test):\n",
    "    print(\"RandomForestClassifier\")\n",
    "    randomforest = RandomForestClassifier().fit(X_train, y_train)\n",
    "\n",
    "    # Predict target variables y for test data\n",
    "    y_pred = randomforest.predict(X_test)\n",
    "\n",
    "    # Get Cross Validation and Confusion matrix\n",
    "    get_eval(randomforest, X_train, y_train,y_test,y_pred)\n",
    "    return"
   ]
  },
  {
   "cell_type": "markdown",
   "metadata": {},
   "source": [
    "Extra Tree Classifier"
   ]
  },
  {
   "cell_type": "code",
   "execution_count": 7,
   "metadata": {},
   "outputs": [],
   "source": [
    "def extratreesclf(X_train, y_train,X_test, y_test):\n",
    "    print(\"ExtraTreesClassifier\")\n",
    "    extratrees = ExtraTreesClassifier().fit(X_train, y_train)\n",
    "\n",
    "    # Predict target variables y for test data\n",
    "    y_pred = extratrees.predict(X_test)\n",
    "\n",
    "    # Get Cross Validation and Confusion matrix\n",
    "    get_eval(extratrees, X_train, y_train,y_test,y_pred)\n",
    "    return"
   ]
  },
  {
   "cell_type": "markdown",
   "metadata": {},
   "source": [
    "GradientBoostingClassifier"
   ]
  },
  {
   "cell_type": "code",
   "execution_count": 8,
   "metadata": {},
   "outputs": [],
   "source": [
    "def gradientboostingclf(X_train, y_train, X_test, y_test):  \n",
    "    print(\"GradientBoostingClassifier\")\n",
    "    gbclf = GradientBoostingClassifier().fit(X_train, y_train)\n",
    "\n",
    "    # Predict target variables y for test data\n",
    "    y_pred = gbclf.predict(X_test)\n",
    "\n",
    "    # Get Cross Validation and Confusion matrix\n",
    "    get_eval(gbclf, X_train, y_train,y_test,y_pred)\n",
    "    return"
   ]
  },
  {
   "cell_type": "markdown",
   "metadata": {},
   "source": [
    "AdaBoostClassifier"
   ]
  },
  {
   "cell_type": "code",
   "execution_count": 9,
   "metadata": {},
   "outputs": [],
   "source": [
    "def adaboostclf(X_train, y_train, X_test, y_test):  \n",
    "    print(\"AdaBoostClassifier\")\n",
    "    abclf = AdaBoostClassifier().fit(X_train, y_train)\n",
    "\n",
    "    # Predict target variables y for test data\n",
    "    y_pred = abclf.predict(X_test)\n",
    "\n",
    "    # Get Cross Validation and Confusion matrix\n",
    "    get_eval(abclf, X_train, y_train,y_test,y_pred)\n",
    "    return"
   ]
  },
  {
   "cell_type": "markdown",
   "metadata": {},
   "source": [
    "Bagging Classifier"
   ]
  },
  {
   "cell_type": "code",
   "execution_count": 10,
   "metadata": {},
   "outputs": [],
   "source": [
    "def baggingclf(X_train, y_train, X_test, y_test):  \n",
    "    print(\"BaggingClassifier\")\n",
    "    bclf = BaggingClassifier().fit(X_train, y_train)\n",
    "\n",
    "    # Predict target variables y for test data\n",
    "    y_pred = bclf.predict(X_test)\n",
    "\n",
    "    # Get Cross Validation and Confusion matrix\n",
    "    get_eval(bclf, X_train, y_train,y_test,y_pred)\n",
    "    return"
   ]
  },
  {
   "cell_type": "markdown",
   "metadata": {},
   "source": [
    "Logistic Regression"
   ]
  },
  {
   "cell_type": "code",
   "execution_count": 11,
   "metadata": {},
   "outputs": [],
   "source": [
    "def logregclf(X_train, y_train,X_test, y_test):\n",
    "    print(\"LogisticRegression\")\n",
    "    logreg = LogisticRegression().fit(X_train, y_train)\n",
    "\n",
    "    # Predict target variables y for test data\n",
    "    y_pred = logreg.predict(X_test)\n",
    "\n",
    "    # Get Cross Validation and Confusion matrix\n",
    "    get_eval(logreg, X_train, y_train,y_test,y_pred)\n",
    "    return"
   ]
  },
  {
   "cell_type": "markdown",
   "metadata": {},
   "source": [
    "SGDClassifier"
   ]
  },
  {
   "cell_type": "code",
   "execution_count": 13,
   "metadata": {},
   "outputs": [],
   "source": [
    "def sgdclf(X_train, y_train,X_test, y_test):\n",
    "    print(\"SGDClassifier\")\n",
    "    sgd = SGDClassifier().fit(X_train, y_train)\n",
    "\n",
    "    # Predict target variables y for test data\n",
    "    y_pred = sgd.predict(X_test)\n",
    "\n",
    "    # Get Cross Validation and Confusion matrix\n",
    "    get_eval(sgd, X_train, y_train,y_test,y_pred)\n",
    "    return"
   ]
  },
  {
   "cell_type": "markdown",
   "metadata": {},
   "source": [
    "Linear SVC"
   ]
  },
  {
   "cell_type": "code",
   "execution_count": 14,
   "metadata": {},
   "outputs": [],
   "source": [
    "def linearsvmclf(X_train, y_train, X_test, y_test, C): \n",
    "    print(\"LinearSVC\")\n",
    "    lin_svc = svm.LinearSVC(C=C, class_weight=\"balanced\",dual=False).fit(X_train, y_train)\n",
    "\n",
    "    # Predict target variables y for test data\n",
    "    y_pred = lin_svc.predict(X_test)\n",
    "    \n",
    "    # Get Cross Validation and Confusion matrix\n",
    "    get_eval(lin_svc, X_train, y_train,y_test,y_pred)\n",
    "    return"
   ]
  },
  {
   "cell_type": "markdown",
   "metadata": {},
   "source": [
    "SVC"
   ]
  },
  {
   "cell_type": "code",
   "execution_count": 15,
   "metadata": {},
   "outputs": [],
   "source": [
    "def svmclf(X_train, y_train, X_test, y_test, C): \n",
    "    print(\"SVC\")\n",
    "    #C = 0.7  # SVM regularization parameter\n",
    "    svc = svm.SVC(kernel='poly',degree=1,probability=True,C=C,class_weight=\"balanced\").fit(X_train, y_train)\n",
    "\n",
    "    # Predict target variables y for test data\n",
    "    y_pred = svc.predict(X_test)\n",
    "    \n",
    "    # Get Cross Validation and Confusion matrix\n",
    "    get_eval(svc, X_train, y_train,y_test,y_pred)\n",
    "    return"
   ]
  },
  {
   "cell_type": "markdown",
   "metadata": {},
   "source": [
    "Gaussian Naive Bayes"
   ]
  },
  {
   "cell_type": "code",
   "execution_count": 16,
   "metadata": {},
   "outputs": [],
   "source": [
    "def gaussnbclf(X_train, y_train, X_test, y_test):  \n",
    "    print(\"GaussianNB\")\n",
    "    gauss_nb = GaussianNB().fit(X_train, y_train)\n",
    "\n",
    "    # Predict target variables y for test data\n",
    "    y_pred = gauss_nb.predict(X_test)\n",
    "\n",
    "    # Get Cross Validation and Confusion matrix\n",
    "    get_eval(gauss_nb, X_train, y_train,y_test,y_pred)\n",
    "    return"
   ]
  },
  {
   "cell_type": "markdown",
   "metadata": {},
   "source": [
    "KNeighborsClassifier"
   ]
  },
  {
   "cell_type": "code",
   "execution_count": 18,
   "metadata": {},
   "outputs": [],
   "source": [
    "def knnclf(X_train, y_train, X_test, y_test):  \n",
    "    print(\"KNeighborsClassifier\")\n",
    "    knn = KNeighborsClassifier(n_neighbors=3).fit(X_train, y_train)\n",
    "\n",
    "    # Predict target variables y for test data\n",
    "    y_pred = knn.predict(X_test)\n",
    "\n",
    "    # Get Cross Validation and Confusion matrix\n",
    "    get_eval(knn, X_train, y_train,y_test,y_pred)\n",
    "    return"
   ]
  },
  {
   "cell_type": "markdown",
   "metadata": {},
   "source": [
    "Neural Network: MLPClassifier"
   ]
  },
  {
   "cell_type": "code",
   "execution_count": 20,
   "metadata": {},
   "outputs": [],
   "source": [
    "def mlpclf(X_train, y_train, X_test, y_test): \n",
    "    print(\"MLPClassifier\")\n",
    "    # fit MLPClassifier with training data, good hidden_layer_sizes = 5,5:AUC63;75,75:AUC65;\n",
    "    mlpclf = MLPClassifier(solver='lbfgs', alpha=5, hidden_layer_sizes=(75,75))\n",
    "    mlpclf.fit(X_train, y_train)\n",
    "    \n",
    "    print(mlpclf.get_params)\n",
    "    \n",
    "    # Predict target variables y for test data\n",
    "    y_pred = mlpclf.predict(X_test)\n",
    "    \n",
    "    # Get Cross Validation and Confusion matrix\n",
    "    get_eval(mlpclf, X_train, y_train,y_test,y_pred)\n",
    "    return"
   ]
  },
  {
   "cell_type": "code",
   "execution_count": 23,
   "metadata": {},
   "outputs": [
    {
     "name": "stdout",
     "output_type": "stream",
     "text": [
      "(1000, 21)\n",
      "Index(['checkin_acc', 'duration', 'credit_history', 'purpose', 'amount',\n",
      "       'svaing_acc', 'present_emp_since', 'inst_rate', 'personal_status',\n",
      "       'other_debtors', 'residing_since', 'property', 'age', 'inst_plans',\n",
      "       'housing', 'num_credits', 'job', 'dependents', 'telephone',\n",
      "       'foreign_worker', 'status'],\n",
      "      dtype='object')\n"
     ]
    },
    {
     "data": {
      "text/html": [
       "<div>\n",
       "<style scoped>\n",
       "    .dataframe tbody tr th:only-of-type {\n",
       "        vertical-align: middle;\n",
       "    }\n",
       "\n",
       "    .dataframe tbody tr th {\n",
       "        vertical-align: top;\n",
       "    }\n",
       "\n",
       "    .dataframe thead th {\n",
       "        text-align: right;\n",
       "    }\n",
       "</style>\n",
       "<table border=\"1\" class=\"dataframe\">\n",
       "  <thead>\n",
       "    <tr style=\"text-align: right;\">\n",
       "      <th></th>\n",
       "      <th>checkin_acc</th>\n",
       "      <th>duration</th>\n",
       "      <th>credit_history</th>\n",
       "      <th>purpose</th>\n",
       "      <th>amount</th>\n",
       "      <th>svaing_acc</th>\n",
       "      <th>present_emp_since</th>\n",
       "      <th>inst_rate</th>\n",
       "      <th>personal_status</th>\n",
       "      <th>other_debtors</th>\n",
       "      <th>...</th>\n",
       "      <th>property</th>\n",
       "      <th>age</th>\n",
       "      <th>inst_plans</th>\n",
       "      <th>housing</th>\n",
       "      <th>num_credits</th>\n",
       "      <th>job</th>\n",
       "      <th>dependents</th>\n",
       "      <th>telephone</th>\n",
       "      <th>foreign_worker</th>\n",
       "      <th>status</th>\n",
       "    </tr>\n",
       "  </thead>\n",
       "  <tbody>\n",
       "    <tr>\n",
       "      <th>0</th>\n",
       "      <td>A11</td>\n",
       "      <td>9</td>\n",
       "      <td>A34</td>\n",
       "      <td>A43</td>\n",
       "      <td>1754</td>\n",
       "      <td>A65</td>\n",
       "      <td>A75</td>\n",
       "      <td>6</td>\n",
       "      <td>A93</td>\n",
       "      <td>A101</td>\n",
       "      <td>...</td>\n",
       "      <td>A121</td>\n",
       "      <td>101</td>\n",
       "      <td>A143</td>\n",
       "      <td>A152</td>\n",
       "      <td>3</td>\n",
       "      <td>A173</td>\n",
       "      <td>2</td>\n",
       "      <td>A192</td>\n",
       "      <td>A201</td>\n",
       "      <td>1</td>\n",
       "    </tr>\n",
       "    <tr>\n",
       "      <th>1</th>\n",
       "      <td>A12</td>\n",
       "      <td>72</td>\n",
       "      <td>A32</td>\n",
       "      <td>A43</td>\n",
       "      <td>8927</td>\n",
       "      <td>A61</td>\n",
       "      <td>A73</td>\n",
       "      <td>3</td>\n",
       "      <td>A92</td>\n",
       "      <td>A101</td>\n",
       "      <td>...</td>\n",
       "      <td>A121</td>\n",
       "      <td>33</td>\n",
       "      <td>A143</td>\n",
       "      <td>A152</td>\n",
       "      <td>2</td>\n",
       "      <td>A173</td>\n",
       "      <td>2</td>\n",
       "      <td>A191</td>\n",
       "      <td>A201</td>\n",
       "      <td>2</td>\n",
       "    </tr>\n",
       "    <tr>\n",
       "      <th>2</th>\n",
       "      <td>A14</td>\n",
       "      <td>18</td>\n",
       "      <td>A34</td>\n",
       "      <td>A46</td>\n",
       "      <td>3144</td>\n",
       "      <td>A61</td>\n",
       "      <td>A74</td>\n",
       "      <td>3</td>\n",
       "      <td>A93</td>\n",
       "      <td>A101</td>\n",
       "      <td>...</td>\n",
       "      <td>A121</td>\n",
       "      <td>74</td>\n",
       "      <td>A143</td>\n",
       "      <td>A152</td>\n",
       "      <td>2</td>\n",
       "      <td>A172</td>\n",
       "      <td>3</td>\n",
       "      <td>A191</td>\n",
       "      <td>A201</td>\n",
       "      <td>1</td>\n",
       "    </tr>\n",
       "    <tr>\n",
       "      <th>3</th>\n",
       "      <td>A11</td>\n",
       "      <td>63</td>\n",
       "      <td>A32</td>\n",
       "      <td>A42</td>\n",
       "      <td>11823</td>\n",
       "      <td>A61</td>\n",
       "      <td>A74</td>\n",
       "      <td>3</td>\n",
       "      <td>A93</td>\n",
       "      <td>A103</td>\n",
       "      <td>...</td>\n",
       "      <td>A122</td>\n",
       "      <td>68</td>\n",
       "      <td>A143</td>\n",
       "      <td>A153</td>\n",
       "      <td>2</td>\n",
       "      <td>A173</td>\n",
       "      <td>3</td>\n",
       "      <td>A191</td>\n",
       "      <td>A201</td>\n",
       "      <td>1</td>\n",
       "    </tr>\n",
       "    <tr>\n",
       "      <th>4</th>\n",
       "      <td>A11</td>\n",
       "      <td>36</td>\n",
       "      <td>A33</td>\n",
       "      <td>A40</td>\n",
       "      <td>7305</td>\n",
       "      <td>A61</td>\n",
       "      <td>A73</td>\n",
       "      <td>5</td>\n",
       "      <td>A93</td>\n",
       "      <td>A101</td>\n",
       "      <td>...</td>\n",
       "      <td>A124</td>\n",
       "      <td>80</td>\n",
       "      <td>A143</td>\n",
       "      <td>A153</td>\n",
       "      <td>3</td>\n",
       "      <td>A173</td>\n",
       "      <td>3</td>\n",
       "      <td>A191</td>\n",
       "      <td>A201</td>\n",
       "      <td>2</td>\n",
       "    </tr>\n",
       "    <tr>\n",
       "      <th>5</th>\n",
       "      <td>A14</td>\n",
       "      <td>54</td>\n",
       "      <td>A32</td>\n",
       "      <td>A46</td>\n",
       "      <td>13583</td>\n",
       "      <td>A65</td>\n",
       "      <td>A73</td>\n",
       "      <td>3</td>\n",
       "      <td>A93</td>\n",
       "      <td>A101</td>\n",
       "      <td>...</td>\n",
       "      <td>A124</td>\n",
       "      <td>53</td>\n",
       "      <td>A143</td>\n",
       "      <td>A153</td>\n",
       "      <td>2</td>\n",
       "      <td>A172</td>\n",
       "      <td>3</td>\n",
       "      <td>A192</td>\n",
       "      <td>A201</td>\n",
       "      <td>1</td>\n",
       "    </tr>\n",
       "    <tr>\n",
       "      <th>6</th>\n",
       "      <td>A14</td>\n",
       "      <td>36</td>\n",
       "      <td>A32</td>\n",
       "      <td>A42</td>\n",
       "      <td>4253</td>\n",
       "      <td>A63</td>\n",
       "      <td>A75</td>\n",
       "      <td>5</td>\n",
       "      <td>A93</td>\n",
       "      <td>A101</td>\n",
       "      <td>...</td>\n",
       "      <td>A122</td>\n",
       "      <td>80</td>\n",
       "      <td>A143</td>\n",
       "      <td>A152</td>\n",
       "      <td>2</td>\n",
       "      <td>A173</td>\n",
       "      <td>2</td>\n",
       "      <td>A191</td>\n",
       "      <td>A201</td>\n",
       "      <td>1</td>\n",
       "    </tr>\n",
       "    <tr>\n",
       "      <th>7</th>\n",
       "      <td>A12</td>\n",
       "      <td>54</td>\n",
       "      <td>A32</td>\n",
       "      <td>A41</td>\n",
       "      <td>10422</td>\n",
       "      <td>A61</td>\n",
       "      <td>A73</td>\n",
       "      <td>3</td>\n",
       "      <td>A93</td>\n",
       "      <td>A101</td>\n",
       "      <td>...</td>\n",
       "      <td>A123</td>\n",
       "      <td>53</td>\n",
       "      <td>A143</td>\n",
       "      <td>A151</td>\n",
       "      <td>2</td>\n",
       "      <td>A174</td>\n",
       "      <td>2</td>\n",
       "      <td>A192</td>\n",
       "      <td>A201</td>\n",
       "      <td>1</td>\n",
       "    </tr>\n",
       "    <tr>\n",
       "      <th>8</th>\n",
       "      <td>A14</td>\n",
       "      <td>18</td>\n",
       "      <td>A32</td>\n",
       "      <td>A43</td>\n",
       "      <td>4589</td>\n",
       "      <td>A64</td>\n",
       "      <td>A74</td>\n",
       "      <td>3</td>\n",
       "      <td>A91</td>\n",
       "      <td>A101</td>\n",
       "      <td>...</td>\n",
       "      <td>A121</td>\n",
       "      <td>92</td>\n",
       "      <td>A143</td>\n",
       "      <td>A152</td>\n",
       "      <td>2</td>\n",
       "      <td>A172</td>\n",
       "      <td>2</td>\n",
       "      <td>A191</td>\n",
       "      <td>A201</td>\n",
       "      <td>1</td>\n",
       "    </tr>\n",
       "    <tr>\n",
       "      <th>9</th>\n",
       "      <td>A12</td>\n",
       "      <td>45</td>\n",
       "      <td>A34</td>\n",
       "      <td>A40</td>\n",
       "      <td>7851</td>\n",
       "      <td>A61</td>\n",
       "      <td>A71</td>\n",
       "      <td>6</td>\n",
       "      <td>A94</td>\n",
       "      <td>A101</td>\n",
       "      <td>...</td>\n",
       "      <td>A123</td>\n",
       "      <td>42</td>\n",
       "      <td>A143</td>\n",
       "      <td>A152</td>\n",
       "      <td>3</td>\n",
       "      <td>A174</td>\n",
       "      <td>2</td>\n",
       "      <td>A191</td>\n",
       "      <td>A201</td>\n",
       "      <td>2</td>\n",
       "    </tr>\n",
       "  </tbody>\n",
       "</table>\n",
       "<p>10 rows × 21 columns</p>\n",
       "</div>"
      ],
      "text/plain": [
       "  checkin_acc  duration credit_history purpose  amount svaing_acc  \\\n",
       "0         A11         9            A34     A43    1754        A65   \n",
       "1         A12        72            A32     A43    8927        A61   \n",
       "2         A14        18            A34     A46    3144        A61   \n",
       "3         A11        63            A32     A42   11823        A61   \n",
       "4         A11        36            A33     A40    7305        A61   \n",
       "5         A14        54            A32     A46   13583        A65   \n",
       "6         A14        36            A32     A42    4253        A63   \n",
       "7         A12        54            A32     A41   10422        A61   \n",
       "8         A14        18            A32     A43    4589        A64   \n",
       "9         A12        45            A34     A40    7851        A61   \n",
       "\n",
       "  present_emp_since  inst_rate personal_status other_debtors  ...  property  \\\n",
       "0               A75          6             A93          A101  ...      A121   \n",
       "1               A73          3             A92          A101  ...      A121   \n",
       "2               A74          3             A93          A101  ...      A121   \n",
       "3               A74          3             A93          A103  ...      A122   \n",
       "4               A73          5             A93          A101  ...      A124   \n",
       "5               A73          3             A93          A101  ...      A124   \n",
       "6               A75          5             A93          A101  ...      A122   \n",
       "7               A73          3             A93          A101  ...      A123   \n",
       "8               A74          3             A91          A101  ...      A121   \n",
       "9               A71          6             A94          A101  ...      A123   \n",
       "\n",
       "   age  inst_plans housing num_credits   job dependents  telephone  \\\n",
       "0  101        A143    A152           3  A173          2       A192   \n",
       "1   33        A143    A152           2  A173          2       A191   \n",
       "2   74        A143    A152           2  A172          3       A191   \n",
       "3   68        A143    A153           2  A173          3       A191   \n",
       "4   80        A143    A153           3  A173          3       A191   \n",
       "5   53        A143    A153           2  A172          3       A192   \n",
       "6   80        A143    A152           2  A173          2       A191   \n",
       "7   53        A143    A151           2  A174          2       A192   \n",
       "8   92        A143    A152           2  A172          2       A191   \n",
       "9   42        A143    A152           3  A174          2       A191   \n",
       "\n",
       "  foreign_worker status  \n",
       "0           A201      1  \n",
       "1           A201      2  \n",
       "2           A201      1  \n",
       "3           A201      1  \n",
       "4           A201      2  \n",
       "5           A201      1  \n",
       "6           A201      1  \n",
       "7           A201      1  \n",
       "8           A201      1  \n",
       "9           A201      2  \n",
       "\n",
       "[10 rows x 21 columns]"
      ]
     },
     "execution_count": 23,
     "metadata": {},
     "output_type": "execute_result"
    }
   ],
   "source": [
    "filename = 'case_study_data.csv'\n",
    "data = pd.read_csv(filename)\n",
    "print(data.shape)\n",
    "print (data.columns)\n",
    "data.head(10)"
   ]
  },
  {
   "cell_type": "code",
   "execution_count": 33,
   "metadata": {},
   "outputs": [],
   "source": [
    "#create quickaccess list with categorical variables labels\n",
    "catvars = ['checkin_acc', 'credit_history', 'purpose', 'svaing_acc', 'present_emp_since',\n",
    "           'personal_status', 'other_debtors', 'property', 'inst_plans', 'housing', 'job', \n",
    "           'telephone', 'foreign_worker']\n",
    "#create quickaccess list with numerical variables labels\n",
    "numvars = ['amount', 'duration', 'inst_rate', 'residing_since', 'age', \n",
    "           'num_credits', 'dependents', 'status']"
   ]
  },
  {
   "cell_type": "code",
   "execution_count": 25,
   "metadata": {},
   "outputs": [
    {
     "name": "stdout",
     "output_type": "stream",
     "text": [
      "0\n"
     ]
    }
   ],
   "source": [
    "print(data.isnull().sum().sum())"
   ]
  },
  {
   "cell_type": "code",
   "execution_count": 27,
   "metadata": {},
   "outputs": [
    {
     "data": {
      "text/plain": [
       "1    700\n",
       "0    300\n",
       "Name: status, dtype: int64"
      ]
     },
     "execution_count": 27,
     "metadata": {},
     "output_type": "execute_result"
    }
   ],
   "source": [
    "# Binarize the y output for easier use of e.g. ROC curves -> 0 = 'bad' credit; 1 = 'good' credit\n",
    "data.status.replace([1,2], [1,0], inplace=True)\n",
    "# Print number of 'good' credits (should be 700) and 'bad credits (should be 300)\n",
    "data.status.value_counts()"
   ]
  },
  {
   "cell_type": "code",
   "execution_count": 29,
   "metadata": {},
   "outputs": [
    {
     "data": {
      "image/png": "[encoded data removed]",
      "text/plain": [
       "<Figure size 432x288 with 3 Axes>"
      ]
     },
     "metadata": {},
     "output_type": "display_data"
    }
   ],
   "source": [
    "# Boxplots for continuous attributes\n",
    "fig, axes = plt.subplots(nrows=1, ncols=3)\n",
    "axes[0].boxplot(data['amount'])\n",
    "axes[0].set_title('amount')\n",
    "axes[1].boxplot(data['duration'])\n",
    "axes[1].set_title('duration')\n",
    "axes[2].boxplot(data['age'])\n",
    "axes[2].set_title('age')\n",
    "\n",
    "fig.savefig(\"boxplots.png\")"
   ]
  },
  {
   "cell_type": "code",
   "execution_count": 31,
   "metadata": {},
   "outputs": [
    {
     "data": {
      "image/png": "[encoded data removed]",
      "text/plain": [
       "<Figure size 1792.8x2527.2 with 20 Axes>"
      ]
     },
     "metadata": {},
     "output_type": "display_data"
    }
   ],
   "source": [
    "# Histograms for non-continuous attributes\n",
    "f, axes = plt.subplots(5, 4,figsize=(8.3*3,11.7*3))\n",
    "x=0\n",
    "y=0\n",
    "for column in data.drop(['status','amount','duration','age'], axis=1):\n",
    "    sns.countplot(y=column, hue=\"status\", data=data.drop(['amount','duration','age'],axis=1), ax=axes[x,y])\n",
    "    y+=1\n",
    "    if y>3:\n",
    "        x+=1\n",
    "        y=0\n",
    "    if x>4:\n",
    "        break\n",
    "f.savefig(\"histograms5.png\")"
   ]
  },
  {
   "cell_type": "code",
   "execution_count": 34,
   "metadata": {},
   "outputs": [
    {
     "name": "stdout",
     "output_type": "stream",
     "text": [
      "amount :  375  -  27636\n",
      "duration :  6  -  108\n",
      "inst_rate :  2  -  6\n",
      "residing_since :  2  -  6\n",
      "age :  29  -  113\n",
      "num_credits :  2  -  6\n",
      "dependents :  2  -  3\n",
      "status :  0  -  1\n"
     ]
    }
   ],
   "source": [
    "# Numerical features range of values\n",
    "for x in range(len(numvars)):\n",
    "    print(numvars[x],\": \", data[numvars[x]].min(),\" - \",data[numvars[x]].max())"
   ]
  },
  {
   "cell_type": "code",
   "execution_count": 36,
   "metadata": {},
   "outputs": [
    {
     "name": "stdout",
     "output_type": "stream",
     "text": [
      "success\n"
     ]
    }
   ],
   "source": [
    "# Standardization\n",
    "numdata_std = pd.DataFrame(StandardScaler().fit_transform(data[numvars].drop(['status'], axis=1)))\n",
    "# MinMax Rescaling to [0,1]\n",
    "numdata_minmax = pd.DataFrame(MinMaxScaler().fit_transform(data[numvars].drop(['status'], axis=1)))\n",
    "print(\"success\")"
   ]
  },
  {
   "cell_type": "markdown",
   "metadata": {},
   "source": [
    "Encoding categorical features"
   ]
  },
  {
   "cell_type": "code",
   "execution_count": 37,
   "metadata": {},
   "outputs": [
    {
     "name": "stdout",
     "output_type": "stream",
     "text": [
      "checkin_acc :  ['A11' 'A12' 'A14' 'A13']\n",
      "checkin_acc :  [0 1 3 2]\n",
      "credit_history :  ['A34' 'A32' 'A33' 'A30' 'A31']\n",
      "credit_history :  [4 2 3 0 1]\n",
      "purpose :  ['A43' 'A46' 'A42' 'A40' 'A41' 'A49' 'A44' 'A45' 'A410' 'A48']\n",
      "purpose :  [4 7 3 0 1 9 5 6 2 8]\n",
      "svaing_acc :  ['A65' 'A61' 'A63' 'A64' 'A62']\n",
      "svaing_acc :  [4 0 2 3 1]\n",
      "present_emp_since :  ['A75' 'A73' 'A74' 'A71' 'A72']\n",
      "present_emp_since :  [4 2 3 0 1]\n",
      "personal_status :  ['A93' 'A92' 'A91' 'A94']\n",
      "personal_status :  [2 1 0 3]\n",
      "other_debtors :  ['A101' 'A103' 'A102']\n",
      "other_debtors :  [0 2 1]\n",
      "property :  ['A121' 'A122' 'A124' 'A123']\n",
      "property :  [0 1 3 2]\n",
      "inst_plans :  ['A143' 'A141' 'A142']\n",
      "inst_plans :  [2 0 1]\n",
      "housing :  ['A152' 'A153' 'A151']\n",
      "housing :  [1 2 0]\n",
      "job :  ['A173' 'A172' 'A174' 'A171']\n",
      "job :  [2 1 3 0]\n",
      "telephone :  ['A192' 'A191']\n",
      "telephone :  [1 0]\n",
      "foreign_worker :  ['A201' 'A202']\n",
      "foreign_worker :  [0 1]\n"
     ]
    }
   ],
   "source": [
    "# Labelencoding to transform categorical to numerical\n",
    "# Enables better Visualization than one hot encoding\n",
    "d = defaultdict(LabelEncoder)\n",
    "\n",
    "# Encoding the variable\n",
    "lecatdata = data[catvars].apply(lambda x: d[x.name].fit_transform(x))\n",
    "\n",
    "# print transformations\n",
    "for x in range(len(catvars)):\n",
    "    print(catvars[x],\": \", data[catvars[x]].unique())\n",
    "    print(catvars[x],\": \", lecatdata[catvars[x]].unique())"
   ]
  },
  {
   "cell_type": "code",
   "execution_count": 38,
   "metadata": {},
   "outputs": [],
   "source": [
    "# One hot encoding\n",
    "#create dummy variables for every category of every categorical variable\n",
    "dummyvars = pd.get_dummies(data[catvars])"
   ]
  },
  {
   "cell_type": "code",
   "execution_count": 40,
   "metadata": {},
   "outputs": [
    {
     "name": "stdout",
     "output_type": "stream",
     "text": [
      "(1000, 62)\n",
      "(1000, 62)\n",
      "(1000, 62)\n"
     ]
    }
   ],
   "source": [
    "# append the dummy variable of the initial numerical variables numvars\n",
    "data_clean = pd.concat([data[numvars], dummyvars], axis = 1)\n",
    "data_std = pd.concat([numdata_std, data['status'], dummyvars], axis = 1)\n",
    "data_minmax = pd.concat([numdata_minmax, data['status'], dummyvars], axis = 1)\n",
    "print(data_clean.shape)\n",
    "print(data_std.shape)\n",
    "print(data_minmax.shape)"
   ]
  },
  {
   "cell_type": "markdown",
   "metadata": {},
   "source": [
    "Split Data"
   ]
  },
  {
   "cell_type": "code",
   "execution_count": 41,
   "metadata": {},
   "outputs": [],
   "source": [
    "# Unscaled, unnormalized data\n",
    "X_clean = data_clean.drop('status', axis=1)\n",
    "y_clean = data_clean['status']\n",
    "X_train_clean, X_test_clean, y_train_clean, y_test_clean = train_test_split(X_clean,y_clean,test_size=0.3333, random_state=1)\n",
    "\n",
    "# Standardized data\n",
    "X_std = data_std.drop('status', axis=1)\n",
    "y_std = data_std['status']\n",
    "X_train_std, X_test_std, y_train_std, y_test_std = train_test_split(X_std,y_std,test_size=0.3333, random_state=1)\n",
    "\n",
    "# Rescaled data\n",
    "X_minmax = data_minmax.drop('status', axis=1)\n",
    "y_minmax = data_minmax['status']\n",
    "X_train_minmax, X_test_minmax, y_train_minmax, y_test_minmax = train_test_split(X_minmax,y_minmax,test_size=0.3333, random_state=1)"
   ]
  },
  {
   "cell_type": "markdown",
   "metadata": {},
   "source": [
    "Handle imbalanced data\n",
    "Use penalization in algorithms\n",
    "Set algorithm class weights\n",
    "Oversampling is done in data preprocessing"
   ]
  },
  {
   "cell_type": "code",
   "execution_count": 43,
   "metadata": {},
   "outputs": [
    {
     "name": "stdout",
     "output_type": "stream",
     "text": [
      "Before/After clean\n",
      "{0: 208, 1: 458}\n",
      "{0: 458, 1: 458}\n",
      "Before/After std\n",
      "{0: 208, 1: 458}\n",
      "{0: 458, 1: 458}\n",
      "Before/After minmax\n",
      "{0: 208, 1: 458}\n",
      "{0: 458, 1: 458}\n"
     ]
    }
   ],
   "source": [
    "# Oversampling\n",
    "# http://contrib.scikit-learn.org/imbalanced-learn/auto_examples/combine/plot_smote_enn.html#sphx-glr-auto-examples-combine-plot-smote-enn-py\n",
    "\n",
    "# Apply SMOTE\n",
    "sm = SMOTE(sampling_strategy='auto')\n",
    "X_train_clean_res, y_train_clean_res = sm.fit_sample(X_train_clean, y_train_clean)\n",
    "X_train_std_res, y_train_std_res = sm.fit_sample(X_train_std, y_train_std)\n",
    "X_train_minmax_res, y_train_minmax_res = sm.fit_sample(X_train_minmax, y_train_minmax)\n",
    "\n",
    "# Print number of 'good' credits and 'bad credits, should be fairly balanced now\n",
    "print(\"Before/After clean\")\n",
    "unique, counts = np.unique(y_train_clean, return_counts=True)\n",
    "print(dict(zip(unique, counts)))\n",
    "unique, counts = np.unique(y_train_clean_res, return_counts=True)\n",
    "print(dict(zip(unique, counts)))\n",
    "print(\"Before/After std\")\n",
    "unique, counts = np.unique(y_train_std, return_counts=True)\n",
    "print(dict(zip(unique, counts)))\n",
    "unique, counts = np.unique(y_train_std_res, return_counts=True)\n",
    "print(dict(zip(unique, counts)))\n",
    "print(\"Before/After minmax\")\n",
    "unique, counts = np.unique(y_train_minmax, return_counts=True)\n",
    "print(dict(zip(unique, counts)))\n",
    "unique, counts = np.unique(y_train_minmax_res, return_counts=True)\n",
    "print(dict(zip(unique, counts)))"
   ]
  },
  {
   "cell_type": "markdown",
   "metadata": {},
   "source": [
    "Classification to evaluate data transformation"
   ]
  },
  {
   "cell_type": "code",
   "execution_count": 44,
   "metadata": {},
   "outputs": [
    {
     "name": "stdout",
     "output_type": "stream",
     "text": [
      "DummyClassifier\n",
      "Cross Validation Accuracy: 0.58 (+/- 0.06)\n",
      "Cross Validation Precision: 0.70 (+/- 0.05)\n",
      "Cross Validation roc_auc: 0.55 (+/- 0.06)\n",
      "[[ 25  67]\n",
      " [ 75 167]]\n"
     ]
    }
   ],
   "source": [
    "# Dummy Classifier\n",
    "print(\"DummyClassifier\")\n",
    "dclf = DummyClassifier(strategy='stratified').fit(X_train_clean, y_train_clean)\n",
    "\n",
    "# Predict target variables y for test data\n",
    "y_pred = dclf.predict(X_test_clean)\n",
    "\n",
    "# Get Cross Validation and Confusion matrix\n",
    "get_eval(dclf, X_train_clean, y_train_clean,y_test_clean,y_pred)"
   ]
  },
  {
   "cell_type": "code",
   "execution_count": 45,
   "metadata": {},
   "outputs": [
    {
     "name": "stdout",
     "output_type": "stream",
     "text": [
      "clean resampled\n",
      "DecisionTreeClassifier\n",
      "Cross Validation Accuracy: 0.78 (+/- 0.11)\n",
      "Cross Validation Precision: 0.81 (+/- 0.16)\n",
      "Cross Validation roc_auc: 0.84 (+/- 0.11)\n",
      "[[ 42  50]\n",
      " [ 57 185]]\n"
     ]
    }
   ],
   "source": [
    "# Decisiontree\n",
    "# Train, test and evaluate the classifiers with different preprocessed data\n",
    "print(\"clean resampled\")\n",
    "dectreeclf(X_train_clean_res, y_train_clean_res,X_test_clean, y_test_clean)"
   ]
  },
  {
   "cell_type": "code",
   "execution_count": 50,
   "metadata": {},
   "outputs": [
    {
     "name": "stdout",
     "output_type": "stream",
     "text": [
      "clean resampled\n",
      "LogisticRegression\n",
      "Cross Validation Accuracy: 0.79 (+/- 0.10)\n",
      "Cross Validation Precision: 0.81 (+/- 0.14)\n",
      "Cross Validation roc_auc: 0.87 (+/- 0.11)\n",
      "[[ 48  44]\n",
      " [ 48 194]]\n"
     ]
    }
   ],
   "source": [
    "# Logistic Regression\n",
    "print(\"clean resampled\")\n",
    "logregclf(X_train_clean_res, y_train_clean_res,X_test_clean, y_test_clean)"
   ]
  },
  {
   "cell_type": "code",
   "execution_count": 47,
   "metadata": {},
   "outputs": [
    {
     "name": "stdout",
     "output_type": "stream",
     "text": [
      "std resampled\n",
      "LinearSVC\n",
      "Cross Validation Accuracy: 0.80 (+/- 0.12)\n",
      "Cross Validation Precision: 0.82 (+/- 0.17)\n",
      "Cross Validation roc_auc: 0.89 (+/- 0.11)\n",
      "[[ 43  49]\n",
      " [ 34 208]]\n"
     ]
    }
   ],
   "source": [
    "# Linear SVC with weighted classes (balanced)\n",
    "print(\"std resampled\")\n",
    "linearsvmclf(X_train_std_res, y_train_std_res,X_test_std, y_test_std,2)"
   ]
  },
  {
   "cell_type": "code",
   "execution_count": 48,
   "metadata": {},
   "outputs": [
    {
     "name": "stdout",
     "output_type": "stream",
     "text": [
      "minmax resampled\n",
      "SVC\n",
      "Cross Validation Accuracy: 0.80 (+/- 0.11)\n",
      "Cross Validation Precision: 0.82 (+/- 0.16)\n",
      "Cross Validation roc_auc: 0.88 (+/- 0.11)\n",
      "[[ 43  49]\n",
      " [ 35 207]]\n"
     ]
    }
   ],
   "source": [
    "# SVC with weighted classes (balanced)\n",
    "print('minmax resampled')\n",
    "svmclf(X_train_minmax_res,y_train_minmax_res,X_test_minmax,y_test_minmax,2)"
   ]
  },
  {
   "cell_type": "code",
   "execution_count": 51,
   "metadata": {},
   "outputs": [
    {
     "name": "stdout",
     "output_type": "stream",
     "text": [
      "clean resampled\n",
      "GaussianNB\n",
      "Cross Validation Accuracy: 0.79 (+/- 0.10)\n",
      "Cross Validation Precision: 0.85 (+/- 0.16)\n",
      "Cross Validation roc_auc: 0.87 (+/- 0.11)\n",
      "[[ 47  45]\n",
      " [ 55 187]]\n"
     ]
    }
   ],
   "source": [
    "# Gaussian Naive Bayes\n",
    "# Train, test and evaluate the classifiers with different preprocessed data\n",
    "print(\"clean resampled\")\n",
    "gaussnbclf(X_train_clean_res, y_train_clean_res,X_test_clean, y_test_clean)"
   ]
  },
  {
   "cell_type": "markdown",
   "metadata": {},
   "source": [
    "Data Reduction"
   ]
  },
  {
   "cell_type": "code",
   "execution_count": 52,
   "metadata": {},
   "outputs": [
    {
     "name": "stdout",
     "output_type": "stream",
     "text": [
      "housing_A153         property_A124          0.779853\n",
      "property_A124        housing_A153           0.779853\n",
      "amount               duration               0.625128\n",
      "duration             amount                 0.625128\n",
      "job_A173             job_A174              -0.543852\n",
      "job_A174             job_A173              -0.543852\n",
      "housing_A152         housing_A153          -0.548445\n",
      "housing_A153         housing_A152          -0.548445\n",
      "svaing_acc_A61       svaing_acc_A65        -0.583281\n",
      "svaing_acc_A65       svaing_acc_A61        -0.583281\n",
      "other_debtors_A102   other_debtors_A101    -0.645721\n",
      "other_debtors_A101   other_debtors_A102    -0.645721\n",
      "job_A172             job_A173              -0.652438\n",
      "job_A173             job_A172              -0.652438\n",
      "credit_history_A34   credit_history_A32    -0.683617\n",
      "credit_history_A32   credit_history_A34    -0.683617\n",
      "other_debtors_A101   other_debtors_A103    -0.731408\n",
      "other_debtors_A103   other_debtors_A101    -0.731408\n",
      "housing_A152         housing_A151          -0.735968\n",
      "housing_A151         housing_A152          -0.735968\n",
      "personal_status_A93  personal_status_A92   -0.738036\n",
      "personal_status_A92  personal_status_A93   -0.738036\n",
      "inst_plans_A141      inst_plans_A143       -0.840546\n",
      "inst_plans_A143      inst_plans_A141       -0.840546\n",
      "dtype: float64\n"
     ]
    }
   ],
   "source": [
    "# Save Correlation Matrix of every variable\n",
    "data_clean.corr(method='pearson').to_csv(\"data_corr.csv\")\n",
    "\n",
    "# List highly correlated features\n",
    "c = data_clean.corr()\n",
    "# Pivots the row/class labels with respective values: matrix -> list\n",
    "s = c.stack()\n",
    "# Select and sort (descending) all pairs with correlation values 0.5<x<1 or -1<x<-0.5\n",
    "so = s[(0.5<s) & (s<1) | (-1<s) & (s<-0.5)].sort_values(ascending=False, kind='quicksort')\n",
    "print(so)"
   ]
  },
  {
   "cell_type": "code",
   "execution_count": 53,
   "metadata": {},
   "outputs": [],
   "source": [
    "# SelectKBest\n",
    "# Use rescaled data, as data must be non-negative\n",
    "skb = SelectKBest(chi2, k=50)\n",
    "skb.fit(X_train_minmax_res, y_train_minmax_res)\n",
    "\n",
    "# Apply fitted transformation to datasets\n",
    "SKBX_train = skb.transform(X_train_clean_res)\n",
    "SKBX_test = skb.transform(X_test_clean)\n",
    "SKBy_train = y_train_minmax_res\n",
    "SKBy_test = y_test_minmax\n"
   ]
  },
  {
   "cell_type": "code",
   "execution_count": 54,
   "metadata": {},
   "outputs": [
    {
     "name": "stdout",
     "output_type": "stream",
     "text": [
      "Num Features: 50\n",
      "Selected Features: [False False  True False False  True False  True  True  True  True  True\n",
      "  True  True  True  True False  True  True  True  True  True False False\n",
      "  True False False  True False  True  True  True  True  True  True  True\n",
      "  True  True  True  True  True  True  True  True  True  True  True  True\n",
      "  True  True  True  True  True  True  True  True  True  True  True  True\n",
      "  True]\n",
      "Feature Ranking: [12  9  1  8 10  1  5  1  1  1  1  1  1  1  1  1  7  1  1  1  1  1 11  4\n",
      "  1  6  3  1  2  1  1  1  1  1  1  1  1  1  1  1  1  1  1  1  1  1  1  1\n",
      "  1  1  1  1  1  1  1  1  1  1  1  1  1]\n"
     ]
    }
   ],
   "source": [
    "# Recursive feature elimination (RFE)\n",
    "# Use clean data, as logistic regression should be robust do different feature scales\n",
    "rfe = RFE(LogisticRegression(), 50)\n",
    "fit = rfe.fit(X_train_clean_res, y_train_clean_res)\n",
    "print(\"Num Features: %d\" % fit.n_features_)\n",
    "print(\"Selected Features: %s\" % fit.support_)\n",
    "print(\"Feature Ranking: %s\" % fit.ranking_)\n",
    "\n",
    "# Apply fitted transformation to datasets\n",
    "RFEX_train = rfe.transform(X_train_clean_res)\n",
    "RFEX_test = rfe.transform(X_test_clean)\n",
    "RFEy_train = y_train_clean_res\n",
    "RFEy_test = y_test_clean"
   ]
  },
  {
   "cell_type": "code",
   "execution_count": 55,
   "metadata": {},
   "outputs": [
    {
     "name": "stdout",
     "output_type": "stream",
     "text": [
      "(916, 42)\n",
      "Top 50 Features:\n",
      "1. feature 10 (0.117242)\n",
      "2. feature 15 (0.056958)\n",
      "3. feature 1 (0.033881)\n",
      "4. feature 0 (0.032834)\n",
      "5. feature 43 (0.031230)\n",
      "6. feature 4 (0.027558)\n",
      "7. feature 30 (0.026101)\n",
      "8. feature 2 (0.025996)\n",
      "9. feature 51 (0.025814)\n",
      "10. feature 38 (0.025344)\n",
      "11. feature 3 (0.024549)\n",
      "12. feature 49 (0.023461)\n",
      "13. feature 13 (0.021544)\n",
      "14. feature 20 (0.021124)\n",
      "15. feature 37 (0.019646)\n",
      "16. feature 8 (0.018733)\n",
      "17. feature 33 (0.018580)\n",
      "18. feature 17 (0.017423)\n",
      "19. feature 9 (0.017207)\n",
      "20. feature 58 (0.017073)\n",
      "21. feature 5 (0.016524)\n",
      "22. feature 7 (0.016414)\n",
      "23. feature 45 (0.016224)\n",
      "24. feature 34 (0.015921)\n",
      "25. feature 26 (0.015894)\n",
      "26. feature 35 (0.015782)\n",
      "27. feature 55 (0.015619)\n",
      "28. feature 19 (0.015618)\n",
      "29. feature 44 (0.014922)\n",
      "30. feature 47 (0.014246)\n",
      "31. feature 16 (0.014020)\n",
      "32. feature 57 (0.013197)\n",
      "33. feature 29 (0.013015)\n",
      "34. feature 39 (0.012481)\n",
      "35. feature 14 (0.011838)\n",
      "36. feature 56 (0.011826)\n",
      "37. feature 40 (0.011646)\n",
      "38. feature 50 (0.011514)\n",
      "39. feature 32 (0.011266)\n",
      "40. feature 42 (0.011168)\n",
      "41. feature 54 (0.011052)\n",
      "42. feature 6 (0.010145)\n",
      "43. feature 27 (0.009311)\n",
      "44. feature 46 (0.008725)\n",
      "45. feature 25 (0.008644)\n",
      "46. feature 52 (0.008046)\n",
      "47. feature 28 (0.007637)\n",
      "48. feature 48 (0.007468)\n",
      "49. feature 31 (0.007271)\n",
      "50. feature 41 (0.005826)\n"
     ]
    }
   ],
   "source": [
    "# Bagged Decision Trees like Random Forest and Extra Tree to determine feature importance\n",
    "# Use clean data, unstandardized and unscaled, because tree is robust to different scales\n",
    "etcclf = ExtraTreesClassifier().fit(X_train_clean_res, y_train_clean_res)\n",
    "    \n",
    "# Select important features using sklearn SelectFromModel, vary treshold, good value turns out to be mean -> select overaverage important features\n",
    "sfm = SelectFromModel(etcclf, prefit=True, threshold=0.01)\n",
    "\n",
    "# Apply fitted transformation to datasets\n",
    "SFMETCX_train = sfm.transform(X_train_clean_res)\n",
    "SFMETCX_test = sfm.transform(X_test_clean)\n",
    "SFMETCy_train = y_train_clean_res\n",
    "SFMETCy_test = y_test_clean\n",
    "\n",
    "# Print shape to see how many features have been selected\n",
    "print(SFMETCX_train.shape)\n",
    "\n",
    "# Calculate the feature ranking - Top50 \n",
    "importances = etcclf.feature_importances_ \n",
    "std = np.std([etcclf.feature_importances_ for tree in etcclf.estimators_], axis=0) \n",
    "indices = np.argsort(importances)[::-1] \n",
    "print(\"Top 50 Features:\") \n",
    "for f in range(50): \n",
    "    print(\"%d. feature %d (%f)\" % (f + 1, indices[f], importances[indices[f]]))"
   ]
  },
  {
   "cell_type": "code",
   "execution_count": 56,
   "metadata": {},
   "outputs": [
    {
     "name": "stdout",
     "output_type": "stream",
     "text": [
      "[0.15069455 0.11528388 0.08232911 0.07120162 0.06538605 0.05617679\n",
      " 0.03570551 0.0305655  0.02563747 0.02446419]\n"
     ]
    }
   ],
   "source": [
    "# Principal Component Analysis\n",
    "# Here we use standardized data, to not overestimate the influence of single variables, which results from different scaling\n",
    "pca = PCA(n_components=10)\n",
    "pca.fit_transform(X_train_std_res, y_train_std_res)\n",
    "print(pca.explained_variance_ratio_) \n",
    "\n",
    "# Apply fitted transformation to datasets\n",
    "PCAX_train = pca.transform(X_train_clean_res)\n",
    "PCAX_test = pca.transform(X_test_clean)\n",
    "PCAy_train = y_train_std_res\n",
    "PCAy_test = y_test_std"
   ]
  },
  {
   "cell_type": "markdown",
   "metadata": {},
   "source": [
    "Classification to evaluate data reduction"
   ]
  },
  {
   "cell_type": "code",
   "execution_count": 57,
   "metadata": {},
   "outputs": [
    {
     "name": "stdout",
     "output_type": "stream",
     "text": [
      "without reduction\n",
      "LogisticRegression\n",
      "Cross Validation Accuracy: 0.79 (+/- 0.10)\n",
      "Cross Validation Precision: 0.81 (+/- 0.14)\n",
      "Cross Validation roc_auc: 0.87 (+/- 0.11)\n",
      "[[ 48  44]\n",
      " [ 48 194]]\n",
      "SKB\n",
      "LogisticRegression\n",
      "Cross Validation Accuracy: 0.80 (+/- 0.10)\n",
      "Cross Validation Precision: 0.82 (+/- 0.15)\n",
      "Cross Validation roc_auc: 0.89 (+/- 0.09)\n",
      "[[ 52  40]\n",
      " [ 42 200]]\n",
      "RFE\n",
      "LogisticRegression\n",
      "Cross Validation Accuracy: 0.81 (+/- 0.14)\n",
      "Cross Validation Precision: 0.83 (+/- 0.18)\n",
      "Cross Validation roc_auc: 0.88 (+/- 0.12)\n",
      "[[ 34  58]\n",
      " [ 31 211]]\n",
      "SFMETC\n",
      "LogisticRegression\n",
      "Cross Validation Accuracy: 0.78 (+/- 0.11)\n",
      "Cross Validation Precision: 0.80 (+/- 0.15)\n",
      "Cross Validation roc_auc: 0.87 (+/- 0.11)\n",
      "[[ 51  41]\n",
      " [ 36 206]]\n",
      "PCA\n",
      "LogisticRegression\n",
      "Cross Validation Accuracy: 0.73 (+/- 0.05)\n",
      "Cross Validation Precision: 0.74 (+/- 0.05)\n",
      "Cross Validation roc_auc: 0.79 (+/- 0.07)\n",
      "[[ 61  31]\n",
      " [ 66 176]]\n"
     ]
    }
   ],
   "source": [
    "# Logistic Regression\n",
    "# clean res data and different data reduction\n",
    "print(\"without reduction\")\n",
    "logregclf(X_train_clean_res, y_train_clean_res,X_test_clean, y_test_clean)\n",
    "print(\"SKB\")\n",
    "logregclf(SKBX_train, SKBy_train, SKBX_test, SKBy_test)\n",
    "print(\"RFE\")\n",
    "logregclf(RFEX_train, RFEy_train, RFEX_test, RFEy_test)\n",
    "print(\"SFMETC\")\n",
    "logregclf(SFMETCX_train, SFMETCy_train, SFMETCX_test, SFMETCy_test)\n",
    "print(\"PCA\")\n",
    "logregclf(PCAX_train, PCAy_train, PCAX_test, PCAy_test)"
   ]
  },
  {
   "cell_type": "code",
   "execution_count": 58,
   "metadata": {},
   "outputs": [
    {
     "name": "stdout",
     "output_type": "stream",
     "text": [
      "without reduction\n",
      "GaussianNB\n",
      "Cross Validation Accuracy: 0.79 (+/- 0.10)\n",
      "Cross Validation Precision: 0.85 (+/- 0.16)\n",
      "Cross Validation roc_auc: 0.87 (+/- 0.11)\n",
      "[[ 47  45]\n",
      " [ 55 187]]\n",
      "SKB\n",
      "GaussianNB\n",
      "Cross Validation Accuracy: 0.80 (+/- 0.09)\n",
      "Cross Validation Precision: 0.86 (+/- 0.15)\n",
      "Cross Validation roc_auc: 0.88 (+/- 0.10)\n",
      "[[ 49  43]\n",
      " [ 63 179]]\n",
      "RFE\n",
      "GaussianNB\n",
      "Cross Validation Accuracy: 0.76 (+/- 0.10)\n",
      "Cross Validation Precision: 0.81 (+/- 0.15)\n",
      "Cross Validation roc_auc: 0.84 (+/- 0.12)\n",
      "[[ 48  44]\n",
      " [ 70 172]]\n",
      "SFMETC\n",
      "GaussianNB\n",
      "Cross Validation Accuracy: 0.81 (+/- 0.11)\n",
      "Cross Validation Precision: 0.84 (+/- 0.16)\n",
      "Cross Validation roc_auc: 0.88 (+/- 0.10)\n",
      "[[ 48  44]\n",
      " [ 44 198]]\n",
      "PCA\n",
      "GaussianNB\n",
      "Cross Validation Accuracy: 0.53 (+/- 0.03)\n",
      "Cross Validation Precision: 0.52 (+/- 0.02)\n",
      "Cross Validation roc_auc: 0.55 (+/- 0.05)\n",
      "[[ 26  66]\n",
      " [ 39 203]]\n"
     ]
    }
   ],
   "source": [
    "#Gaussian Naive Bayes\n",
    "# clean res data and different data reduction\n",
    "print(\"without reduction\")\n",
    "gaussnbclf(X_train_clean_res, y_train_clean_res,X_test_clean, y_test_clean)\n",
    "print(\"SKB\")\n",
    "gaussnbclf(SKBX_train, SKBy_train, SKBX_test, SKBy_test)\n",
    "print(\"RFE\")\n",
    "gaussnbclf(RFEX_train, RFEy_train, RFEX_test, RFEy_test)\n",
    "print(\"SFMETC\")\n",
    "gaussnbclf(SFMETCX_train, SFMETCy_train, SFMETCX_test, SFMETCy_test)\n",
    "print(\"PCA\")\n",
    "gaussnbclf(PCAX_train, PCAy_train, PCAX_test, PCAy_test)"
   ]
  },
  {
   "cell_type": "code",
   "execution_count": 59,
   "metadata": {},
   "outputs": [
    {
     "name": "stdout",
     "output_type": "stream",
     "text": [
      "without reduction\n",
      "SVC\n",
      "Cross Validation Accuracy: 0.80 (+/- 0.11)\n",
      "Cross Validation Precision: 0.82 (+/- 0.16)\n",
      "Cross Validation roc_auc: 0.88 (+/- 0.11)\n",
      "[[ 43  49]\n",
      " [ 35 207]]\n",
      "SKB\n",
      "RFE\n",
      "SFMETC\n",
      "PCA\n"
     ]
    }
   ],
   "source": [
    "# SVC with weighted classes (balanced)\n",
    "# minmax res data and different data reduction\n",
    "print('without reduction')\n",
    "svmclf(X_train_minmax_res,y_train_minmax_res,X_test_minmax,y_test_minmax,2)\n",
    "print(\"SKB\")\n",
    "#svmclf(SKBX_train, SKBy_train, SKBX_test, SKBy_test,2)\n",
    "print(\"RFE\")\n",
    "#svmclf(RFEX_train, RFEy_train, RFEX_test, RFEy_test,2)\n",
    "print(\"SFMETC\")\n",
    "#svmclf(SFMETCX_train, SFMETCy_train, SFMETCX_test, SFMETCy_test,2)\n",
    "print(\"PCA\")\n",
    "#svmclf(PCAX_train, PCAy_train, PCAX_test, PCAy_test,2)"
   ]
  },
  {
   "cell_type": "code",
   "execution_count": 60,
   "metadata": {},
   "outputs": [
    {
     "name": "stdout",
     "output_type": "stream",
     "text": [
      "without reduction\n",
      "LinearSVC\n",
      "Cross Validation Accuracy: 0.80 (+/- 0.12)\n",
      "Cross Validation Precision: 0.82 (+/- 0.17)\n",
      "Cross Validation roc_auc: 0.89 (+/- 0.11)\n",
      "[[ 43  49]\n",
      " [ 34 208]]\n",
      "SKB\n",
      "LinearSVC\n",
      "Cross Validation Accuracy: 0.81 (+/- 0.12)\n",
      "Cross Validation Precision: 0.83 (+/- 0.17)\n",
      "Cross Validation roc_auc: 0.90 (+/- 0.11)\n",
      "[[ 40  52]\n",
      " [ 36 206]]\n",
      "RFE\n",
      "LinearSVC\n",
      "Cross Validation Accuracy: 0.81 (+/- 0.14)\n",
      "Cross Validation Precision: 0.82 (+/- 0.18)\n",
      "Cross Validation roc_auc: 0.88 (+/- 0.13)\n",
      "[[ 31  61]\n",
      " [ 29 213]]\n",
      "SFMETC\n",
      "LinearSVC\n",
      "Cross Validation Accuracy: 0.80 (+/- 0.12)\n",
      "Cross Validation Precision: 0.82 (+/- 0.17)\n",
      "Cross Validation roc_auc: 0.89 (+/- 0.11)\n",
      "[[ 46  46]\n",
      " [ 37 205]]\n",
      "PCA\n",
      "LinearSVC\n",
      "Cross Validation Accuracy: 0.72 (+/- 0.06)\n",
      "Cross Validation Precision: 0.73 (+/- 0.05)\n",
      "Cross Validation roc_auc: 0.80 (+/- 0.07)\n",
      "[[ 61  31]\n",
      " [ 68 174]]\n"
     ]
    }
   ],
   "source": [
    "# Linear SVC with weighted classes (balanced)\n",
    "print(\"without reduction\")\n",
    "linearsvmclf(X_train_std_res, y_train_std_res,X_test_std, y_test_std,2)\n",
    "print(\"SKB\")\n",
    "linearsvmclf(SKBX_train, SKBy_train, SKBX_test, SKBy_test,2)\n",
    "print(\"RFE\")\n",
    "linearsvmclf(RFEX_train, RFEy_train, RFEX_test, RFEy_test,2)\n",
    "print(\"SFMETC\")\n",
    "linearsvmclf(SFMETCX_train, SFMETCy_train, SFMETCX_test, SFMETCy_test,2)\n",
    "print(\"PCA\")\n",
    "linearsvmclf(PCAX_train, PCAy_train, PCAX_test, PCAy_test,2)"
   ]
  },
  {
   "cell_type": "markdown",
   "metadata": {},
   "source": [
    "Increasing Accuracy\n",
    "Use bagging and boosting: RandomForestClassifier, ExtraTreesClassifier\n",
    "SVC, Grid Search Parameter Optimization\n",
    "Multilayer Perceptron Classifier\n",
    "Gradient Booster Classifier\n",
    "AdaBoost\n",
    "BaggingClassifier\n",
    "SGDClassifier\n",
    "VotingClassifier (Look where algorithms have their strengths - then combine e.g. good algo for tp with good algo for tp"
   ]
  },
  {
   "cell_type": "code",
   "execution_count": 61,
   "metadata": {},
   "outputs": [
    {
     "name": "stdout",
     "output_type": "stream",
     "text": [
      "RandomForestClassifier\n",
      "Cross Validation Accuracy: 0.82 (+/- 0.11)\n",
      "Cross Validation Precision: 0.83 (+/- 0.16)\n",
      "Cross Validation roc_auc: 0.91 (+/- 0.09)\n",
      "[[ 42  50]\n",
      " [ 30 212]]\n"
     ]
    }
   ],
   "source": [
    "# Random Forest\n",
    "# Choose clean data, as tree is robust\n",
    "randomforestclf(X_train_clean_res, y_train_clean_res,X_test_clean, y_test_clean)"
   ]
  },
  {
   "cell_type": "code",
   "execution_count": 62,
   "metadata": {},
   "outputs": [
    {
     "name": "stdout",
     "output_type": "stream",
     "text": [
      "ExtraTreesClassifier\n",
      "Cross Validation Accuracy: 0.82 (+/- 0.11)\n",
      "Cross Validation Precision: 0.84 (+/- 0.16)\n",
      "Cross Validation roc_auc: 0.91 (+/- 0.09)\n",
      "[[ 39  53]\n",
      " [ 30 212]]\n"
     ]
    }
   ],
   "source": [
    "# Extra Trees\n",
    "# Choose clean data, as tree is robust\n",
    "extratreesclf(X_train_clean_res, y_train_clean_res,X_test_clean, y_test_clean)"
   ]
  },
  {
   "cell_type": "code",
   "execution_count": 63,
   "metadata": {},
   "outputs": [
    {
     "name": "stdout",
     "output_type": "stream",
     "text": [
      "AdaBoostClassifier\n",
      "Cross Validation Accuracy: 0.81 (+/- 0.11)\n",
      "Cross Validation Precision: 0.83 (+/- 0.16)\n",
      "Cross Validation roc_auc: 0.89 (+/- 0.11)\n",
      "[[ 41  51]\n",
      " [ 33 209]]\n"
     ]
    }
   ],
   "source": [
    "# AdaBoostClassifier\n",
    "# Choose clean data, as tree is robust\n",
    "adaboostclf(X_train_clean_res, y_train_clean_res,X_test_clean, y_test_clean)"
   ]
  },
  {
   "cell_type": "code",
   "execution_count": 64,
   "metadata": {},
   "outputs": [
    {
     "name": "stdout",
     "output_type": "stream",
     "text": [
      "BaggingClassifier\n",
      "Cross Validation Accuracy: 0.80 (+/- 0.09)\n",
      "Cross Validation Precision: 0.84 (+/- 0.13)\n",
      "Cross Validation roc_auc: 0.88 (+/- 0.10)\n",
      "[[ 38  54]\n",
      " [ 59 183]]\n"
     ]
    }
   ],
   "source": [
    "# BaggingClassifier\n",
    "baggingclf(X_train_minmax_res, y_train_minmax_res, X_test_minmax, y_test_minmax)"
   ]
  },
  {
   "cell_type": "code",
   "execution_count": 65,
   "metadata": {},
   "outputs": [
    {
     "name": "stdout",
     "output_type": "stream",
     "text": [
      "GradientBoostingClassifier\n",
      "Cross Validation Accuracy: 0.82 (+/- 0.10)\n",
      "Cross Validation Precision: 0.85 (+/- 0.15)\n",
      "Cross Validation roc_auc: 0.90 (+/- 0.10)\n",
      "[[ 39  53]\n",
      " [ 38 204]]\n"
     ]
    }
   ],
   "source": [
    "# GradientBoostingClassifier\n",
    "# Choose clean data, as tree is robust\n",
    "gradientboostingclf(X_train_clean_res, y_train_clean_res,X_test_clean, y_test_clean)"
   ]
  },
  {
   "cell_type": "code",
   "execution_count": 66,
   "metadata": {},
   "outputs": [
    {
     "name": "stdout",
     "output_type": "stream",
     "text": [
      "MLPClassifier\n",
      "<bound method BaseEstimator.get_params of MLPClassifier(alpha=5, hidden_layer_sizes=(75, 75), solver='lbfgs')>\n",
      "Cross Validation Accuracy: 0.72 (+/- 0.06)\n",
      "Cross Validation Precision: 0.79 (+/- 0.04)\n",
      "Cross Validation roc_auc: 0.76 (+/- 0.06)\n",
      "[[ 45  47]\n",
      " [ 52 190]]\n"
     ]
    }
   ],
   "source": [
    "# Multi-layer Perceptron classifier (MLP)\n",
    "mlpclf(X_train_minmax, y_train_minmax, X_test_minmax, y_test_minmax)"
   ]
  },
  {
   "cell_type": "code",
   "execution_count": 67,
   "metadata": {},
   "outputs": [
    {
     "name": "stdout",
     "output_type": "stream",
     "text": [
      "SGDClassifier\n",
      "Cross Validation Accuracy: 0.71 (+/- 0.07)\n",
      "Cross Validation Precision: 0.78 (+/- 0.06)\n",
      "Cross Validation roc_auc: 0.76 (+/- 0.07)\n",
      "[[ 77  15]\n",
      " [128 114]]\n"
     ]
    }
   ],
   "source": [
    "\n",
    "# SGDClassifier (Logistic Regression and SVC)\n",
    "sgdclf(X_train_minmax, y_train_minmax, X_test_minmax, y_test_minmax)"
   ]
  },
  {
   "cell_type": "code",
   "execution_count": null,
   "metadata": {},
   "outputs": [],
   "source": []
  }
 ],
 "metadata": {
  "kernelspec": {
   "display_name": "Python 3",
   "language": "python",
   "name": "python3"
  },
  "language_info": {
   "codemirror_mode": {
    "name": "ipython",
    "version": 3
   },
   "file_extension": ".py",
   "mimetype": "text/x-python",
   "name": "python",
   "nbconvert_exporter": "python",
   "pygments_lexer": "ipython3",
   "version": "3.8.3"
  }
 },
 "nbformat": 4,
 "nbformat_minor": 4
}
